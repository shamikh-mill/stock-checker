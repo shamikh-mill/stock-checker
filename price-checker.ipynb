{
 "cells": [
  {
   "cell_type": "markdown",
   "metadata": {},
   "source": [
    "# Portfolio Price Analytics"
   ]
  },
  {
   "cell_type": "markdown",
   "metadata": {},
   "source": [
    "This iPython notebook serves to provide simple yet important stock price insights using stock portfolio history data from the excel file located in the same directory. It imports real-time stock data using the yahoo-finance python module.  \n",
    "https://pypi.python.org/pypi/yahoo-finance  "
   ]
  },
  {
   "cell_type": "code",
   "execution_count": 10,
   "metadata": {
    "collapsed": false
   },
   "outputs": [
    {
     "name": "stdout",
     "output_type": "stream",
     "text": [
      "Populating the interactive namespace from numpy and matplotlib\n"
     ]
    }
   ],
   "source": [
    "import pandas as pd\n",
    "import yahoo_finance # https://pypi.python.org/pypi/yahoo-finance, https://github.com/lukaszbanasiak/yahoo-finance\n",
    "import matplotlib.pyplot as plt \n",
    "%matplotlib inline\n",
    "%pylab inline\n",
    "#pylab.rcParams['figure.figsize'] = (12, 6)   # Change the size of plots\n",
    "import seaborn as sns\n",
    "sns.set(color_codes=True)\n",
    "\n",
    "#cheat sheets \n",
    "# http://www.webpages.uidaho.edu/~stevel/504/Pandas%20DataFrame%20Notes.pdf"
   ]
  },
  {
   "cell_type": "code",
   "execution_count": 11,
   "metadata": {
    "collapsed": false
   },
   "outputs": [
    {
     "data": {
      "text/html": [
       "<div>\n",
       "<table border=\"1\" class=\"dataframe\">\n",
       "  <thead>\n",
       "    <tr style=\"text-align: right;\">\n",
       "      <th></th>\n",
       "      <th>price-paid</th>\n",
       "      <th>quantity</th>\n",
       "    </tr>\n",
       "    <tr>\n",
       "      <th>stock</th>\n",
       "      <th></th>\n",
       "      <th></th>\n",
       "    </tr>\n",
       "  </thead>\n",
       "  <tbody>\n",
       "    <tr>\n",
       "      <th>BAC</th>\n",
       "      <td>25.00</td>\n",
       "      <td>3</td>\n",
       "    </tr>\n",
       "    <tr>\n",
       "      <th>SNAP</th>\n",
       "      <td>25.00</td>\n",
       "      <td>4</td>\n",
       "    </tr>\n",
       "    <tr>\n",
       "      <th>TWTR</th>\n",
       "      <td>17.14</td>\n",
       "      <td>1</td>\n",
       "    </tr>\n",
       "  </tbody>\n",
       "</table>\n",
       "</div>"
      ],
      "text/plain": [
       "       price-paid  quantity\n",
       "stock                      \n",
       "BAC         25.00         3\n",
       "SNAP        25.00         4\n",
       "TWTR        17.14         1"
      ]
     },
     "execution_count": 11,
     "metadata": {},
     "output_type": "execute_result"
    }
   ],
   "source": [
    "#import personal data from portfolio.xlsx\n",
    "raw_data = pd.read_excel('portfolio.xlsx')\n",
    "stock_data = raw_data.set_index(\"stock\")\n",
    "stock_data"
   ]
  },
  {
   "cell_type": "code",
   "execution_count": 12,
   "metadata": {
    "collapsed": false
   },
   "outputs": [
    {
     "name": "stdout",
     "output_type": "stream",
     "text": [
      "{'BAC': 23.35, 'SNAP': 22.55, 'TWTR': 15.04}\n"
     ]
    }
   ],
   "source": [
    "# Get prices from Yahoo-Finance \n",
    "shares = [yahoo_finance.Share(str(stock)) for stock in stock_data.index]\n",
    "current_prices = [share.get_price() for share in shares]\n",
    "stock_prices = {str(k): float(v) for k, v in zip(stock_data.index, current_prices)}\n",
    "print (stock_prices)"
   ]
  },
  {
   "cell_type": "code",
   "execution_count": 13,
   "metadata": {
    "collapsed": false
   },
   "outputs": [
    {
     "data": {
      "text/html": [
       "<div>\n",
       "<table border=\"1\" class=\"dataframe\">\n",
       "  <thead>\n",
       "    <tr style=\"text-align: right;\">\n",
       "      <th></th>\n",
       "      <th>current_price</th>\n",
       "      <th>price_paid</th>\n",
       "      <th>price_diff</th>\n",
       "      <th>quantity</th>\n",
       "      <th>values</th>\n",
       "      <th>total_invested</th>\n",
       "      <th>profit</th>\n",
       "    </tr>\n",
       "    <tr>\n",
       "      <th>stock</th>\n",
       "      <th></th>\n",
       "      <th></th>\n",
       "      <th></th>\n",
       "      <th></th>\n",
       "      <th></th>\n",
       "      <th></th>\n",
       "      <th></th>\n",
       "    </tr>\n",
       "  </thead>\n",
       "  <tbody>\n",
       "    <tr>\n",
       "      <th>BAC</th>\n",
       "      <td>23.35</td>\n",
       "      <td>25.00</td>\n",
       "      <td>-1.65</td>\n",
       "      <td>3</td>\n",
       "      <td>70.05</td>\n",
       "      <td>75.00</td>\n",
       "      <td>-4.95</td>\n",
       "    </tr>\n",
       "    <tr>\n",
       "      <th>SNAP</th>\n",
       "      <td>22.55</td>\n",
       "      <td>25.00</td>\n",
       "      <td>-2.45</td>\n",
       "      <td>4</td>\n",
       "      <td>90.20</td>\n",
       "      <td>100.00</td>\n",
       "      <td>-9.80</td>\n",
       "    </tr>\n",
       "    <tr>\n",
       "      <th>TWTR</th>\n",
       "      <td>15.04</td>\n",
       "      <td>17.14</td>\n",
       "      <td>-2.10</td>\n",
       "      <td>1</td>\n",
       "      <td>15.04</td>\n",
       "      <td>17.14</td>\n",
       "      <td>-2.10</td>\n",
       "    </tr>\n",
       "  </tbody>\n",
       "</table>\n",
       "</div>"
      ],
      "text/plain": [
       "       current_price  price_paid  price_diff  quantity  values  \\\n",
       "stock                                                            \n",
       "BAC            23.35       25.00       -1.65         3   70.05   \n",
       "SNAP           22.55       25.00       -2.45         4   90.20   \n",
       "TWTR           15.04       17.14       -2.10         1   15.04   \n",
       "\n",
       "       total_invested  profit  \n",
       "stock                          \n",
       "BAC             75.00   -4.95  \n",
       "SNAP           100.00   -9.80  \n",
       "TWTR            17.14   -2.10  "
      ]
     },
     "execution_count": 13,
     "metadata": {},
     "output_type": "execute_result"
    }
   ],
   "source": [
    "df2 = pd.DataFrame({'price_paid' : stock_data['price-paid'], \n",
    "                    'current_price': [float(price) for price in current_prices],\n",
    "                    'quantity' : stock_data['quantity']\n",
    "                    })\n",
    "\n",
    "price_differentials = [(x - y) for x, y in zip(df2['current_price'], df2['price_paid'])]\n",
    "df2.insert(0, 'stock', stock_data.index)\n",
    "df2.insert(3, 'price_diff', price_differentials)\n",
    "df2.insert(5, 'values', df2['current_price']*df2['quantity'])\n",
    "df2.insert(6, 'total_invested', df2['price_paid']*df2['quantity'])\n",
    "df2.insert(7, 'profit', stock_data['quantity'] * df2['price_diff'])\n",
    "master_data = df2.set_index('stock')\n",
    "master_data"
   ]
  },
  {
   "cell_type": "code",
   "execution_count": 14,
   "metadata": {
    "collapsed": false
   },
   "outputs": [
    {
     "name": "stdout",
     "output_type": "stream",
     "text": [
      "total valuation:  175.29\n",
      "total assets:  200.0\n"
     ]
    },
    {
     "data": {
      "text/html": [
       "<div>\n",
       "<table border=\"1\" class=\"dataframe\">\n",
       "  <thead>\n",
       "    <tr style=\"text-align: right;\">\n",
       "      <th></th>\n",
       "      <th>stock_valuation</th>\n",
       "      <th>total_assets</th>\n",
       "    </tr>\n",
       "  </thead>\n",
       "  <tbody>\n",
       "    <tr>\n",
       "      <th>0</th>\n",
       "      <td>175.29</td>\n",
       "      <td>200.0</td>\n",
       "    </tr>\n",
       "  </tbody>\n",
       "</table>\n",
       "</div>"
      ],
      "text/plain": [
       "   stock_valuation  total_assets\n",
       "0           175.29         200.0"
      ]
     },
     "execution_count": 14,
     "metadata": {},
     "output_type": "execute_result"
    }
   ],
   "source": [
    "stock = master_data['values'].sum()\n",
    "print ('total valuation: ', stock) \n",
    "\n",
    "def totalAssets(df3, not_invested): \n",
    "    return master_data['total_invested'].sum() + not_invested\n",
    "\n",
    "buying_power = 7.86\n",
    "totalAssets = totalAssets(stock_data, buying_power)\n",
    "print ('total assets: ', totalAssets)\n",
    "\n",
    "df = pd.DataFrame({'total_assets':  [totalAssets], \n",
    "                    'stock_valuation':  [stock]})\n",
    "df"
   ]
  },
  {
   "cell_type": "code",
   "execution_count": 8,
   "metadata": {
    "collapsed": false
   },
   "outputs": [
    {
     "data": {
      "text/plain": [
       "<matplotlib.lines.Line2D at 0x11b1038d0>"
      ]
     },
     "execution_count": 8,
     "metadata": {},
     "output_type": "execute_result"
    },
    {
     "data": {
      "image/png": "[encoded data removed]",
      "text/plain": [
       "<matplotlib.figure.Figure at 0x11b103710>"
      ]
     },
     "metadata": {},
     "output_type": "display_data"
    }
   ],
   "source": [
    "master_data['profit'].plot(kind='bar', color= 'teal'); plt.axhline(0, color='k')"
   ]
  },
  {
   "cell_type": "code",
   "execution_count": 9,
   "metadata": {
    "collapsed": false
   },
   "outputs": [
    {
     "name": "stdout",
     "output_type": "stream",
     "text": [
      "rip, you have a negative portfolio\n",
      "expected profit:  -16.85\n"
     ]
    }
   ],
   "source": [
    "profit = 0\n",
    "for stock in master_data.index:\n",
    "    profit += master_data.at[str(stock), 'profit']\n",
    "    if (master_data.at[str(stock), 'profit'] > 0): \n",
    "        print (stock)\n",
    "        \n",
    "if profit < 0: print ('rip, you have a negative portfolio')\n",
    "print ('expected profit: ', profit)"
   ]
  },
  {
   "cell_type": "code",
   "execution_count": null,
   "metadata": {
    "collapsed": false
   },
   "outputs": [],
   "source": []
  },
  {
   "cell_type": "code",
   "execution_count": null,
   "metadata": {
    "collapsed": true
   },
   "outputs": [],
   "source": []
  }
 ],
 "metadata": {
  "kernelspec": {
   "display_name": "Python 3",
   "language": "python",
   "name": "python3"
  },
  "language_info": {
   "codemirror_mode": {
    "name": "ipython",
    "version": 3
   },
   "file_extension": ".py",
   "mimetype": "text/x-python",
   "name": "python",
   "nbconvert_exporter": "python",
   "pygments_lexer": "ipython3",
   "version": "3.6.0"
  }
 },
 "nbformat": 4,
 "nbformat_minor": 2
}
