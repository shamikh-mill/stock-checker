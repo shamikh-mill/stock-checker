{
 "cells": [
  {
   "cell_type": "markdown",
   "metadata": {},
   "source": [
    "# Portfolio Price Analytics"
   ]
  },
  {
   "cell_type": "markdown",
   "metadata": {},
   "source": [
    "This iPython notebook serves to provide simple but important stock price insights using stock portfolio history data from the excel file located in the same directory. It imports real-time stock data using the yahoo-finance python module and is uses simple difference analysis to see which shares are doing well. \n",
    "https://pypi.python.org/pypi/yahoo-finance  "
   ]
  },
  {
   "cell_type": "code",
   "execution_count": 1,
   "metadata": {},
   "outputs": [
    {
     "name": "stdout",
     "output_type": "stream",
     "text": [
      "Populating the interactive namespace from numpy and matplotlib\n"
     ]
    }
   ],
   "source": [
    "import pandas as pd\n",
    "import yahoo_finance # https://pypi.python.org/pypi/yahoo-finance, https://github.com/lukaszbanasiak/yahoo-finance\n",
    "import matplotlib.pyplot as plt \n",
    "%matplotlib inline\n",
    "%pylab inline\n",
    "#pylab.rcParams['figure.figsize'] = (12, 6)   # Change the size of plots\n",
    "import seaborn as sns\n",
    "sns.set(color_codes=True)\n",
    "\n",
    "#cheat sheets \n",
    "# http://www.webpages.uidaho.edu/~stevel/504/Pandas%20DataFrame%20Notes.pdf"
   ]
  },
  {
   "cell_type": "code",
   "execution_count": 2,
   "metadata": {},
   "outputs": [
    {
     "data": {
      "text/html": [
       "<div>\n",
       "<table border=\"1\" class=\"dataframe\">\n",
       "  <thead>\n",
       "    <tr style=\"text-align: right;\">\n",
       "      <th></th>\n",
       "      <th>price-paid</th>\n",
       "      <th>quantity</th>\n",
       "    </tr>\n",
       "    <tr>\n",
       "      <th>stock</th>\n",
       "      <th></th>\n",
       "      <th></th>\n",
       "    </tr>\n",
       "  </thead>\n",
       "  <tbody>\n",
       "    <tr>\n",
       "      <th>BAC</th>\n",
       "      <td>25.0000</td>\n",
       "      <td>3</td>\n",
       "    </tr>\n",
       "    <tr>\n",
       "      <th>SNAP</th>\n",
       "      <td>25.0000</td>\n",
       "      <td>4</td>\n",
       "    </tr>\n",
       "    <tr>\n",
       "      <th>TWTR</th>\n",
       "      <td>17.1400</td>\n",
       "      <td>1</td>\n",
       "    </tr>\n",
       "    <tr>\n",
       "      <th>SKLN</th>\n",
       "      <td>1.8900</td>\n",
       "      <td>1</td>\n",
       "    </tr>\n",
       "    <tr>\n",
       "      <th>FIT</th>\n",
       "      <td>6.0900</td>\n",
       "      <td>1</td>\n",
       "    </tr>\n",
       "    <tr>\n",
       "      <th>HOTRW</th>\n",
       "      <td>0.1740</td>\n",
       "      <td>1</td>\n",
       "    </tr>\n",
       "    <tr>\n",
       "      <th>AXARW</th>\n",
       "      <td>0.0722</td>\n",
       "      <td>1</td>\n",
       "    </tr>\n",
       "  </tbody>\n",
       "</table>\n",
       "</div>"
      ],
      "text/plain": [
       "       price-paid  quantity\n",
       "stock                      \n",
       "BAC       25.0000         3\n",
       "SNAP      25.0000         4\n",
       "TWTR      17.1400         1\n",
       "SKLN       1.8900         1\n",
       "FIT        6.0900         1\n",
       "HOTRW      0.1740         1\n",
       "AXARW      0.0722         1"
      ]
     },
     "execution_count": 2,
     "metadata": {},
     "output_type": "execute_result"
    }
   ],
   "source": [
    "#import personal data from portfolio.xlsx\n",
    "raw_data = pd.read_excel('portfolio.xlsx')\n",
    "stock_data = raw_data.set_index(\"stock\")\n",
    "stock_data"
   ]
  },
  {
   "cell_type": "code",
   "execution_count": 3,
   "metadata": {},
   "outputs": [
    {
     "name": "stdout",
     "output_type": "stream",
     "text": [
      "{'BAC': 24.02, 'SNAP': 23.0536, 'TWTR': 18.54, 'SKLN': 1.88, 'FIT': 6.1, 'HOTRW': 0.1741, 'AXARW': 0.07}\n"
     ]
    }
   ],
   "source": [
    "# Get prices from Yahoo-Finance \n",
    "shares = [yahoo_finance.Share(str(stock)) for stock in stock_data.index]\n",
    "current_prices = [share.get_price() for share in shares]\n",
    "stock_prices = {str(k): float(v) for k, v in zip(stock_data.index, current_prices)}\n",
    "print (stock_prices)"
   ]
  },
  {
   "cell_type": "code",
   "execution_count": 4,
   "metadata": {},
   "outputs": [
    {
     "data": {
      "text/html": [
       "<div>\n",
       "<table border=\"1\" class=\"dataframe\">\n",
       "  <thead>\n",
       "    <tr style=\"text-align: right;\">\n",
       "      <th></th>\n",
       "      <th>current_price</th>\n",
       "      <th>price_paid</th>\n",
       "      <th>price_diff</th>\n",
       "      <th>quantity</th>\n",
       "      <th>values</th>\n",
       "      <th>total_invested</th>\n",
       "      <th>profit</th>\n",
       "    </tr>\n",
       "    <tr>\n",
       "      <th>stock</th>\n",
       "      <th></th>\n",
       "      <th></th>\n",
       "      <th></th>\n",
       "      <th></th>\n",
       "      <th></th>\n",
       "      <th></th>\n",
       "      <th></th>\n",
       "    </tr>\n",
       "  </thead>\n",
       "  <tbody>\n",
       "    <tr>\n",
       "      <th>BAC</th>\n",
       "      <td>24.0200</td>\n",
       "      <td>25.0000</td>\n",
       "      <td>-0.9800</td>\n",
       "      <td>3</td>\n",
       "      <td>72.0600</td>\n",
       "      <td>75.0000</td>\n",
       "      <td>-2.9400</td>\n",
       "    </tr>\n",
       "    <tr>\n",
       "      <th>SNAP</th>\n",
       "      <td>23.0536</td>\n",
       "      <td>25.0000</td>\n",
       "      <td>-1.9464</td>\n",
       "      <td>4</td>\n",
       "      <td>92.2144</td>\n",
       "      <td>100.0000</td>\n",
       "      <td>-7.7856</td>\n",
       "    </tr>\n",
       "    <tr>\n",
       "      <th>TWTR</th>\n",
       "      <td>18.5400</td>\n",
       "      <td>17.1400</td>\n",
       "      <td>1.4000</td>\n",
       "      <td>1</td>\n",
       "      <td>18.5400</td>\n",
       "      <td>17.1400</td>\n",
       "      <td>1.4000</td>\n",
       "    </tr>\n",
       "    <tr>\n",
       "      <th>SKLN</th>\n",
       "      <td>1.8800</td>\n",
       "      <td>1.8900</td>\n",
       "      <td>-0.0100</td>\n",
       "      <td>1</td>\n",
       "      <td>1.8800</td>\n",
       "      <td>1.8900</td>\n",
       "      <td>-0.0100</td>\n",
       "    </tr>\n",
       "    <tr>\n",
       "      <th>FIT</th>\n",
       "      <td>6.1000</td>\n",
       "      <td>6.0900</td>\n",
       "      <td>0.0100</td>\n",
       "      <td>1</td>\n",
       "      <td>6.1000</td>\n",
       "      <td>6.0900</td>\n",
       "      <td>0.0100</td>\n",
       "    </tr>\n",
       "    <tr>\n",
       "      <th>HOTRW</th>\n",
       "      <td>0.1741</td>\n",
       "      <td>0.1740</td>\n",
       "      <td>0.0001</td>\n",
       "      <td>1</td>\n",
       "      <td>0.1741</td>\n",
       "      <td>0.1740</td>\n",
       "      <td>0.0001</td>\n",
       "    </tr>\n",
       "    <tr>\n",
       "      <th>AXARW</th>\n",
       "      <td>0.0700</td>\n",
       "      <td>0.0722</td>\n",
       "      <td>-0.0022</td>\n",
       "      <td>1</td>\n",
       "      <td>0.0700</td>\n",
       "      <td>0.0722</td>\n",
       "      <td>-0.0022</td>\n",
       "    </tr>\n",
       "  </tbody>\n",
       "</table>\n",
       "</div>"
      ],
      "text/plain": [
       "       current_price  price_paid  price_diff  quantity   values  \\\n",
       "stock                                                             \n",
       "BAC          24.0200     25.0000     -0.9800         3  72.0600   \n",
       "SNAP         23.0536     25.0000     -1.9464         4  92.2144   \n",
       "TWTR         18.5400     17.1400      1.4000         1  18.5400   \n",
       "SKLN          1.8800      1.8900     -0.0100         1   1.8800   \n",
       "FIT           6.1000      6.0900      0.0100         1   6.1000   \n",
       "HOTRW         0.1741      0.1740      0.0001         1   0.1741   \n",
       "AXARW         0.0700      0.0722     -0.0022         1   0.0700   \n",
       "\n",
       "       total_invested  profit  \n",
       "stock                          \n",
       "BAC           75.0000 -2.9400  \n",
       "SNAP         100.0000 -7.7856  \n",
       "TWTR          17.1400  1.4000  \n",
       "SKLN           1.8900 -0.0100  \n",
       "FIT            6.0900  0.0100  \n",
       "HOTRW          0.1740  0.0001  \n",
       "AXARW          0.0722 -0.0022  "
      ]
     },
     "execution_count": 4,
     "metadata": {},
     "output_type": "execute_result"
    }
   ],
   "source": [
    "df2 = pd.DataFrame({'price_paid' : stock_data['price-paid'], \n",
    "                    'current_price': [float(price) for price in current_prices],\n",
    "                    'quantity' : stock_data['quantity']\n",
    "                    })\n",
    "\n",
    "price_differentials = [(x - y) for x, y in zip(df2['current_price'], df2['price_paid'])]\n",
    "df2.insert(0, 'stock', stock_data.index)\n",
    "df2.insert(3, 'price_diff', price_differentials)\n",
    "df2.insert(5, 'values', df2['current_price']*df2['quantity'])\n",
    "df2.insert(6, 'total_invested', df2['price_paid']*df2['quantity'])\n",
    "df2.insert(7, 'profit', stock_data['quantity'] * df2['price_diff'])\n",
    "master_data = df2.set_index('stock')\n",
    "master_data"
   ]
  },
  {
   "cell_type": "code",
   "execution_count": 5,
   "metadata": {},
   "outputs": [
    {
     "data": {
      "text/html": [
       "<div>\n",
       "<table border=\"1\" class=\"dataframe\">\n",
       "  <thead>\n",
       "    <tr style=\"text-align: right;\">\n",
       "      <th></th>\n",
       "      <th>stock_valuation</th>\n",
       "      <th>total_assets</th>\n",
       "    </tr>\n",
       "  </thead>\n",
       "  <tbody>\n",
       "    <tr>\n",
       "      <th>0</th>\n",
       "      <td>191.0385</td>\n",
       "      <td>200.3862</td>\n",
       "    </tr>\n",
       "  </tbody>\n",
       "</table>\n",
       "</div>"
      ],
      "text/plain": [
       "   stock_valuation  total_assets\n",
       "0         191.0385      200.3862"
      ]
     },
     "execution_count": 5,
     "metadata": {},
     "output_type": "execute_result"
    }
   ],
   "source": [
    "stock = master_data['values'].sum()\n",
    "\n",
    "def totalAssets(df3, not_invested): \n",
    "    return master_data['total_invested'].sum() + not_invested\n",
    "\n",
    "buying_power = .02\n",
    "totalAssets = totalAssets(stock_data, buying_power)\n",
    "\n",
    "df = pd.DataFrame({'total_assets':  [totalAssets], \n",
    "                    'stock_valuation':  [stock]})\n",
    "df"
   ]
  },
  {
   "cell_type": "code",
   "execution_count": 6,
   "metadata": {},
   "outputs": [
    {
     "data": {
      "text/plain": [
       "<matplotlib.lines.Line2D at 0x1181b9c88>"
      ]
     },
     "execution_count": 6,
     "metadata": {},
     "output_type": "execute_result"
    },
    {
     "data": {
      "image/png": "[encoded data removed]",
      "text/plain": [
       "<matplotlib.figure.Figure at 0x1180d94e0>"
      ]
     },
     "metadata": {},
     "output_type": "display_data"
    }
   ],
   "source": [
    "master_data['profit'].plot(kind='bar', color= 'teal'); plt.axhline(0, color='k')"
   ]
  },
  {
   "cell_type": "code",
   "execution_count": 7,
   "metadata": {},
   "outputs": [
    {
     "name": "stdout",
     "output_type": "stream",
     "text": [
      "stocks I can sell:\n",
      "TWTR profit would be: $ 1.4\n",
      "FIT profit would be: $ 0.01\n",
      "HOTRW profit would be: $ 0.0001\n",
      "positive stock profit: $ 1.4101\n",
      "\n",
      "rip, you have a negative portfolio\n",
      "expected profit:  -9.3277\n"
     ]
    }
   ],
   "source": [
    "profit = 0\n",
    "positive_profit = 0 \n",
    "print ('stocks I can sell:')\n",
    "for stock in master_data.index:\n",
    "    value = master_data.at[str(stock), 'profit']\n",
    "    profit += value\n",
    "    if (value > 0): positive_profit+= value\n",
    "    if (value > 0): print (stock, 'profit would be:', '$', value)\n",
    "     \n",
    "print('positive stock profit:', '$',positive_profit)\n",
    "\n",
    "print()        \n",
    "if profit < 0: print ('rip, you have a negative portfolio')\n",
    "else: print('Dude nice! Positive Portfolio boys!')\n",
    "print ('expected profit: ', profit)"
   ]
  },
  {
   "cell_type": "code",
   "execution_count": null,
   "metadata": {
    "collapsed": true
   },
   "outputs": [],
   "source": []
  },
  {
   "cell_type": "code",
   "execution_count": null,
   "metadata": {
    "collapsed": true
   },
   "outputs": [],
   "source": []
  }
 ],
 "metadata": {
  "kernelspec": {
   "display_name": "Python 3",
   "language": "python",
   "name": "python3"
  },
  "language_info": {
   "codemirror_mode": {
    "name": "ipython",
    "version": 3
   },
   "file_extension": ".py",
   "mimetype": "text/x-python",
   "name": "python",
   "nbconvert_exporter": "python",
   "pygments_lexer": "ipython3",
   "version": "3.6.0"
  }
 },
 "nbformat": 4,
 "nbformat_minor": 2
}
